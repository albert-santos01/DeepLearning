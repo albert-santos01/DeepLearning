{
 "cells": [
  {
   "attachments": {},
   "cell_type": "markdown",
   "metadata": {},
   "source": [
    "# **SVHN Dataset**\n",
    "In the following exercices, you will work with the SVHN dataset: http://ufldl.stanford.edu/housenumbers/\n",
    "\n",
    "It contains RGB images of street digits labeled from 1 to 10 similar to the MNIST dataset.\n",
    "\n",
    "The train and test sets are provided in the folder Data/svhn/ in .mat format.\n",
    "In the following we show an example of how to load the images and labels from these files. A DataLoader for this dataset is provided in the code examples for the lab."
   ]
  },
  {
   "cell_type": "code",
   "execution_count": 2,
   "metadata": {},
   "outputs": [
    {
     "name": "stdout",
     "output_type": "stream",
     "text": [
      "Label: 1\n"
     ]
    },
    {
     "data": {
      "text/plain": [
       "<matplotlib.image.AxesImage at 0x1f9e3d5dba0>"
      ]
     },
     "execution_count": 2,
     "metadata": {},
     "output_type": "execute_result"
    },
    {
     "data": {
      "image/png": "[encoded data removed]",
      "text/plain": [
       "<Figure size 640x480 with 1 Axes>"
      ]
     },
     "metadata": {},
     "output_type": "display_data"
    }
   ],
   "source": [
    "# Basic example loading images from the svhn dataset\n",
    "import scipy.io as sio\n",
    "import matplotlib.pyplot as plt\n",
    "import numpy as np\n",
    "import os\n",
    "import torch\n",
    "import torch.nn as nn\n",
    "\n",
    "try: \n",
    "    base_path\n",
    "except NameError:\n",
    "    base_path = os.getcwd().replace('\\\\','/')\n",
    "data_path = base_path + '/Data/'\n",
    "results_path = base_path + '/Results/'\n",
    "\n",
    "# Load mat file with train images from SVHN\n",
    "import scipy.io as sio\n",
    "train_mat = sio.loadmat(data_path + 'svhn/train_32x32.mat')\n",
    "\n",
    "images = train_mat['X']\n",
    "labels = train_mat['y'].squeeze()\n",
    "\n",
    "example_image, example_label = images[:,:,:,20], labels[20] \n",
    "\n",
    "print('Label: ' + str(example_label))\n",
    "plt.imshow(example_image)"
   ]
  },
  {
   "attachments": {},
   "cell_type": "markdown",
   "metadata": {},
   "source": [
    "# Ex. 1\n"
   ]
  },
  {
   "attachments": {},
   "cell_type": "markdown",
   "metadata": {},
   "source": [
    "'''\n",
    "1. Try to obtain the maximum test accuracy possible in the SVHN dataset. For this purpose train/test different variants of the CNN provided in P3-Part1-Examples.\n",
    "   You can explore different strategies:\n",
    "1.1. Increase the size of the network by adding one ore more conv. layers. You can also increase the number of filters in each layer.\n",
    "1.2. Try different optimizers such as Adam or SGD with momentum and modify the learning rate. You can check: https://pytorch.org/docs/stable/optim.html\n",
    "1.3. Explore different random transformations during training ( Data augmentation ) such as random cropping with padding. \n",
    "You can check: https://pytorch.org/docs/stable/torchvision/transforms.html . Remember that these random transofrmation must not be used during testing.\n",
    "1.4 Whatever you consider...\n",
    "\n",
    "\n",
    "2. Save all the different models , compare their test accuracy and analyse the results. Discuss what model has been shown more effective and why have you used the different strategies.\n",
    "'''"
   ]
  },
  {
   "cell_type": "markdown",
   "metadata": {},
   "source": [
    "# Sol. 1"
   ]
  },
  {
   "cell_type": "code",
   "execution_count": null,
   "metadata": {},
   "outputs": [],
   "source": [
    "#Making native class loader\n",
    "import PIL.Image as Image\n",
    "\n",
    "class SVHN(torch.utils.data.Dataset):\n",
    "    # Initialization method for the dataset\n",
    "    def __init__(self,dataDir = data_path+'/svhn/train_32x32.mat',transform = None):\n",
    "        mat_loaded = sio.loadmat(dataDir)\n",
    "        self.data = mat_loaded['X']\n",
    "        self.labels = mat_loaded['y'].squeeze()\n",
    "        self.labels -= self.labels.min()\n",
    "        self.transform = transform\n",
    "     # What to do to load a single item in the dataset ( read image and label)    \n",
    "    def __getitem__(self, index):\n",
    "        data = self.data[:,:,:,index]\n",
    "        lbl = self.labels[index]\n",
    "        \n",
    "        data = Image.fromarray(data)\n",
    "        # Apply a trasnformaiton to the image if it is indicated in the initalizer\n",
    "        if self.transform is not None : \n",
    "            data = self.transform(data)\n",
    "        \n",
    "        # return the image and the label\n",
    "        return data,lbl\n",
    "    \n",
    "        pass\n",
    "    \n",
    "    # Return the number of images\n",
    "    def __len__(self):\n",
    "        return self.data.shape[3]\n"
   ]
  },
  {
   "cell_type": "markdown",
   "metadata": {},
   "source": [
    "## Base CNN"
   ]
  },
  {
   "cell_type": "code",
   "execution_count": null,
   "metadata": {},
   "outputs": [],
   "source": [
    "# Define an standard CNN -> Two conv. blocks and linear layer \n",
    "import torch.nn as nn\n",
    "class BaseConvNet(nn.Module):\n",
    "    def __init__(self, num_classes=10):\n",
    "        \n",
    "        super(BaseConvNet, self).__init__()\n",
    "        \n",
    "        self.conv1 = nn.Conv2d(3, 16, kernel_size=5,  padding=2)\n",
    "        #input : 3 channel, output 16 channel, filter size : 5x5 and padding 2\n",
    "        # the ouput of this channel will be 16x32x32 (assuming our image is in fact 32x32) since the pixels\n",
    "        # that the convolution operation collapses into are 32x32 (the padding is 2 so the image is not reduced)\n",
    "        \n",
    "        self.conv2 = nn.Conv2d(16, 32, kernel_size=3,  padding=1)\n",
    "        #input : 16 channel, output 32 channel, filter size : 3x3\n",
    "        # simmilary the output of this channel will be 32x32x32. If the kernel is 3x3, then the dimensions are reduced by\n",
    "        # 2 (since the padding is 1) in both height and width, but the padding counters this.\n",
    "        \n",
    "        self.fc = nn.Linear(8*8*32, num_classes)\n",
    "        # must match the previous dimensions in the input. In the case of the SVHM dataset, the input is 32x32x3, and after\n",
    "        # doing 2 convolutions that do not reduce the height and width, but 2 maxpooling operations after the convolutions, the\n",
    "        # dimensions are 8x8x32, since the final channel number is 32. The 8*8*32 is the number of pixels in the image after the \n",
    "        # convolutions, and the number of channels\n",
    "        \n",
    "        self.maxpool= nn.MaxPool2d(kernel_size=2, stride=2)\n",
    "        self.relu = nn.ReLU().cuda()\n",
    "        \n",
    "    def forward(self, x):\n",
    "        \n",
    "        out = self.conv1(x)\n",
    "        out = self.relu(out)\n",
    "        out = self.maxpool(out)\n",
    "        \n",
    "        out = self.conv2(out)\n",
    "        out = self.relu(out)\n",
    "        out = self.maxpool(out)\n",
    "        \n",
    "        out = out.reshape(out.size(0), -1) \n",
    "        out = self.fc(out) # we don't need sigmoid or other activation function at the end beacuse we will use nn.CrossEntropyLoss() (check documentation to understand why)\n",
    "        \n",
    "        return out \n",
    "\n"
   ]
  },
  {
   "cell_type": "code",
   "execution_count": null,
   "metadata": {},
   "outputs": [],
   "source": [
    "# Train function\n",
    "def train(CNN, train_loader, optimizer, num_epochs=5, model_name='model.ckpt', device='cpu'):\n",
    "    CNN.train() # Set the model in train mode\n",
    "    total_step = len(train_loader)\n",
    "    losses_list = []\n",
    "    # Iterate over epochs\n",
    "    for epoch in range(num_epochs):\n",
    "        # Iterate the dataset\n",
    "        for i, (images, labels) in enumerate(train_loader):\n",
    "            # Get batch of samples and labels\n",
    "            images = images.to(device)\n",
    "            labels = labels.to(device)\n",
    "            \n",
    "            # Forward pass\n",
    "            outputs = CNN(images)\n",
    "            loss = criterion(outputs, labels)\n",
    "            losses_list.append(loss.item())\n",
    "            \n",
    "            # Backward and optimize\n",
    "            optimizer.zero_grad()\n",
    "            loss.backward()\n",
    "            optimizer.step()\n",
    "            \n",
    "            if (i+1) % 100 == 0:\n",
    "                print ('Epoch [{}/{}], Step [{}/{}], Loss: {:.4f}' \n",
    "                        .format(epoch+1, num_epochs, i+1, total_step, loss.item()))\n",
    "          \n",
    "    torch.save(CNN.state_dict(), results_path + model_name)\n",
    "    return losses_list \n",
    "\n",
    "# Test funcion\n",
    "def test(CNN, test_loader):\n",
    "  with torch.no_grad():\n",
    "        correct = 0\n",
    "        total = 0\n",
    "        for images, labels in test_loader:\n",
    "            # get network predictions\n",
    "            outputs = CNN(images)\n",
    "\n",
    "            # get predicted class\n",
    "            _, predicted = torch.max(outputs.data, 1)\n",
    "\n",
    "            # compare with the ground-truth\n",
    "            total += labels.size(0)\n",
    "            correct += (predicted == labels).sum().item()\n",
    "        # return accuracy\n",
    "        return 100 * correct / total"
   ]
  },
  {
   "cell_type": "code",
   "execution_count": null,
   "metadata": {},
   "outputs": [],
   "source": [
    "BaseCNN = BaseConvNet()\n",
    "# CNN = CNN.cuda()\n",
    "import torchvision.transforms as tf\n",
    "\n",
    "# Create train data loader\n",
    "tr = tf.Compose([\n",
    "        tf.ToTensor(), \n",
    "        tf.Normalize(mean = [.5], std = [.5]),\n",
    "        ])\n",
    "SVHNTrain = SVHN(data_path+'/svhn/train_32x32.mat',tr)\n",
    "train_loader = torch.utils.data.DataLoader(dataset=SVHNTrain,\n",
    "                                               batch_size=256, \n",
    "                                               shuffle=True)\n",
    "\n",
    "SVHNTest = SVHN(data_path+'/svhn/test_32x32.mat',tr)\n",
    "test_loader = torch.utils.data.DataLoader(dataset=SVHNTest,\n",
    "                                               batch_size=256, \n",
    "                                               shuffle=True)"
   ]
  },
  {
   "cell_type": "code",
   "execution_count": null,
   "metadata": {},
   "outputs": [
    {
     "name": "stderr",
     "output_type": "stream",
     "text": [
      "c:\\Users\\erodriguez\\AppData\\Local\\Programs\\Python\\Python39\\lib\\site-packages\\torchvision\\transforms\\functional.py:136: UserWarning: TypedStorage is deprecated. It will be removed in the future and UntypedStorage will be the only storage class. This should only matter to you if you are using storages directly.  To access UntypedStorage directly, use tensor.untyped_storage() instead of tensor.storage()\n",
      "  img = torch.ByteTensor(torch.ByteStorage.from_buffer(pic.tobytes()))\n"
     ]
    },
    {
     "name": "stdout",
     "output_type": "stream",
     "text": [
      "Epoch [1/5], Step [100/287], Loss: 1.2437\n",
      "Epoch [1/5], Step [200/287], Loss: 0.6243\n",
      "Epoch [2/5], Step [100/287], Loss: 0.4715\n",
      "Epoch [2/5], Step [200/287], Loss: 0.6304\n",
      "Epoch [3/5], Step [100/287], Loss: 0.4976\n",
      "Epoch [3/5], Step [200/287], Loss: 0.4832\n",
      "Epoch [4/5], Step [100/287], Loss: 0.5711\n",
      "Epoch [4/5], Step [200/287], Loss: 0.3705\n",
      "Epoch [5/5], Step [100/287], Loss: 0.4586\n",
      "Epoch [5/5], Step [200/287], Loss: 0.4366\n"
     ]
    },
    {
     "data": {
      "image/png": "[encoded data removed]",
      "text/plain": [
       "<Figure size 640x480 with 1 Axes>"
      ]
     },
     "metadata": {},
     "output_type": "display_data"
    },
    {
     "name": "stdout",
     "output_type": "stream",
     "text": [
      "Test accuracy is: 85.81361401352181 %\n"
     ]
    }
   ],
   "source": [
    "# Cross entropy loss for classification problems\n",
    "criterion = nn.CrossEntropyLoss()\n",
    "\n",
    "#Initialize optimizer \n",
    "learning_rate = .001\n",
    "optimizer = torch.optim.Adam(BaseCNN.parameters(),lr = learning_rate)\n",
    "\n",
    "\n",
    "# Device configuration (choose GPU if it is available )\n",
    "device = torch.device('cuda:0' if torch.cuda.is_available() else 'cpu')\n",
    "num_epochs = 5\n",
    "\n",
    "# Train and test the model\n",
    "loss_hist = train(BaseCNN, train_loader, optimizer, num_epochs, model_name='base_model.pkt', device=device)\n",
    "plt.plot(loss_hist)\n",
    "plt.show()\n",
    "\n",
    "\n",
    "print('Test accuracy is: {} %'.format(test(BaseCNN, test_loader)))\n",
    "# Create test data loader\n"
   ]
  },
  {
   "cell_type": "markdown",
   "metadata": {},
   "source": [
    "## Refined CNN's"
   ]
  },
  {
   "cell_type": "markdown",
   "metadata": {},
   "source": [
    "We will not create a CNN class for each hyperparameter configuration. Instead, we will change the RefinedConvNet class"
   ]
  },
  {
   "cell_type": "markdown",
   "metadata": {},
   "source": [
    "### More Layers or different architecture"
   ]
  },
  {
   "cell_type": "code",
   "execution_count": null,
   "metadata": {},
   "outputs": [],
   "source": [
    "# Define an standard CNN -> Two conv. blocks and linear layer \n",
    "import torch.nn as nn\n",
    "class LongConvNet(nn.Module):\n",
    "    def __init__(self, num_classes=10):\n",
    "        \n",
    "        super(LongConvNet, self).__init__()\n",
    "        \n",
    "        self.conv1 = nn.Conv2d(3, 16, kernel_size=5,  padding=2) \n",
    "        # after maxpooling, the dimensions are 16x16x16\n",
    "    \n",
    "        self.conv2 = nn.Conv2d(16, 32, kernel_size=5)\n",
    "        # after maxpooling, the dimensions are 7x7x32\n",
    "\n",
    "        self.conv3 = nn.Conv2d(32, 64, kernel_size=3, padding=1)\n",
    "        # after maxpooling, the dimensions are 3x3x64\n",
    "        \n",
    "        self.fc1 = nn.Linear(3*3*64, 256)\n",
    "        self.fc2 = nn.Linear(256, num_classes)\n",
    "        \n",
    "        self.maxpool= nn.MaxPool2d(kernel_size=2, stride=2)\n",
    "        self.relu = nn.ReLU()\n",
    "        \n",
    "    def forward(self, x):\n",
    "        \n",
    "        out = self.conv1(x)\n",
    "        out = self.relu(out)\n",
    "        out = self.maxpool(out)\n",
    "        \n",
    "        out = self.conv2(out)\n",
    "        out = self.relu(out)\n",
    "        out = self.maxpool(out)\n",
    "\n",
    "        out = self.conv3(out)\n",
    "        out = self.relu(out)\n",
    "        out = self.maxpool(out)\n",
    "        \n",
    "        out = out.reshape(out.size(0), -1) \n",
    "        out = self.fc1(out)\n",
    "        out = self.relu(out)\n",
    "\n",
    "        out = self.fc2(out)\n",
    "        \n",
    "        return out \n",
    "\n"
   ]
  },
  {
   "cell_type": "code",
   "execution_count": null,
   "metadata": {},
   "outputs": [
    {
     "name": "stdout",
     "output_type": "stream",
     "text": [
      "Epoch [1/5], Step [100/287], Loss: 1.1918\n",
      "Epoch [1/5], Step [200/287], Loss: 0.8696\n",
      "Epoch [2/5], Step [100/287], Loss: 0.3323\n",
      "Epoch [2/5], Step [200/287], Loss: 0.4316\n",
      "Epoch [3/5], Step [100/287], Loss: 0.5190\n",
      "Epoch [3/5], Step [200/287], Loss: 0.3019\n",
      "Epoch [4/5], Step [100/287], Loss: 0.5467\n",
      "Epoch [4/5], Step [200/287], Loss: 0.3222\n",
      "Epoch [5/5], Step [100/287], Loss: 0.3226\n",
      "Epoch [5/5], Step [200/287], Loss: 0.3979\n"
     ]
    },
    {
     "data": {
      "image/png": "[encoded data removed]",
      "text/plain": [
       "<Figure size 640x480 with 1 Axes>"
      ]
     },
     "metadata": {},
     "output_type": "display_data"
    },
    {
     "name": "stdout",
     "output_type": "stream",
     "text": [
      "Test accuracy is: 89.33236017209589 %\n"
     ]
    }
   ],
   "source": [
    "LongCNN = LongConvNet()\n",
    "\n",
    "criterion = nn.CrossEntropyLoss()\n",
    "\n",
    "#Initialize optimizer \n",
    "learning_rate = .001\n",
    "\n",
    "# Device configuration (choose GPU if it is available )\n",
    "device = torch.device('cuda:0' if torch.cuda.is_available() else 'cpu')\n",
    "num_epochs = 5\n",
    "\n",
    "optimizer = torch.optim.Adam(LongCNN.parameters(),lr = learning_rate)\n",
    "\n",
    "loss_hist = train(LongCNN, train_loader, optimizer, num_epochs, model_name='long_model.pkt', device=device)\n",
    "# plot the loss history with a white background\n",
    "plt.plot(loss_hist)\n",
    "plt.show()\n",
    "\n",
    "\n",
    "print('Test accuracy is: {} %'.format(test(LongCNN, test_loader)))\n",
    "# Create test data loader"
   ]
  },
  {
   "cell_type": "markdown",
   "metadata": {},
   "source": [
    "### Different Optimizers"
   ]
  },
  {
   "cell_type": "code",
   "execution_count": null,
   "metadata": {},
   "outputs": [],
   "source": [
    "# Cross entropy loss for classification problems\n",
    "criterion = nn.CrossEntropyLoss()\n",
    "\n",
    "#Initialize optimizer \n",
    "learning_rate = .001\n",
    "optimizer_Adam = torch.optim.Adam(BaseCNN.parameters(),lr = learning_rate)\n",
    "\n",
    "\n",
    "# Device configuration (choose GPU if it is available )\n",
    "device = torch.device('cuda:0' if torch.cuda.is_available() else 'cpu')\n",
    "num_epochs = 5\n",
    "\n",
    "# Train and test the model\n",
    "loss_hist = train(BaseCNN, train_loader, optimizer_Adam, num_epochs, model_name='base_model.pkt', device=device)\n",
    "plt.plot(loss_hist)\n",
    "plt.show()\n",
    "\n",
    "\n",
    "print('Test accuracy is: {} %'.format(test(BaseCNN, test_loader)))\n",
    "# Create test data loader\n"
   ]
  },
  {
   "cell_type": "code",
   "execution_count": null,
   "metadata": {},
   "outputs": [],
   "source": [
    "# Cross entropy loss for classification problems\n",
    "RMSpropCNN = BaseConvNet()\n",
    "criterion = nn.CrossEntropyLoss()\n",
    "\n",
    "#Initialize optimizer \n",
    "learning_rate = .001\n",
    "optimizer_RMSpropCNN = torch.optim.RMSprop(RMSpropCNN.parameters(),lr = learning_rate)\n",
    "\n",
    "\n",
    "# Device configuration (choose GPU if it is available )\n",
    "device = torch.device('cuda:0' if torch.cuda.is_available() else 'cpu')\n",
    "num_epochs = 5\n",
    "\n",
    "# Train and test the model\n",
    "loss_hist = train(RMSpropCNN, train_loader, optimizer_RMSpropCNN, num_epochs, model_name='rmsprop_model.pkt', device=device)\n",
    "plt.plot(loss_hist)\n",
    "plt.show()\n",
    "\n",
    "\n",
    "print('Test accuracy is: {} %'.format(test(RMSpropCNN, test_loader)))\n",
    "# Create test data loader"
   ]
  },
  {
   "cell_type": "code",
   "execution_count": null,
   "metadata": {},
   "outputs": [],
   "source": [
    "# Cross entropy loss for classification problems\n",
    "SGDGCNN = BaseConvNet()\n",
    "criterion = nn.CrossEntropyLoss()\n",
    "\n",
    "#Initialize optimizer \n",
    "learning_rate = .1\n",
    "optimizer_SGD = torch.optim.SGD(SGDGCNN.fc.parameters(),lr = learning_rate, weight_decay=1e-5, momentum=0.9)\n",
    "\n",
    "\n",
    "# Device configuration (choose GPU if it is available )\n",
    "device = torch.device('cuda:0' if torch.cuda.is_available() else 'cpu')\n",
    "num_epochs = 5\n",
    "\n",
    "# Train and test the model\n",
    "loss_hist = train(SGDGCNN, train_loader, optimizer_SGD, num_epochs, model_name='SGD_model.pkt', device=device)\n",
    "plt.plot(loss_hist)\n",
    "plt.show()\n",
    "\n",
    "\n",
    "print('Test accuracy is: {} %'.format(test(SGDGCNN, test_loader)))\n",
    "# Create test data loader"
   ]
  },
  {
   "cell_type": "markdown",
   "metadata": {},
   "source": [
    "### Transormations"
   ]
  },
  {
   "cell_type": "code",
   "execution_count": null,
   "metadata": {},
   "outputs": [],
   "source": [
    "# Create train data loader\n",
    "max_degree = 10\n",
    "tr_rot = tf.Compose([\n",
    "        tf.ToTensor(), \n",
    "        tf.Normalize(mean = [.5], std = [.5]),\n",
    "        tf.RandomRotation(max_degree)\n",
    "        ])\n",
    "\n",
    "SVHNTrain_rot = SVHN(data_path+'/svhn/train_32x32.mat',tr_rot)\n",
    "train_loader_rot = torch.utils.data.DataLoader(dataset=SVHNTrain_rot,\n",
    "                                               batch_size=256, \n",
    "                                               shuffle=True)\n",
    "\n",
    "SVHNTest_rot = SVHN(data_path+'/svhn/test_32x32.mat',tr_rot)\n",
    "test_loader_rot = torch.utils.data.DataLoader(dataset=SVHNTest_rot,\n",
    "                                               batch_size=256, \n",
    "                                               shuffle=True)\n"
   ]
  },
  {
   "cell_type": "code",
   "execution_count": null,
   "metadata": {},
   "outputs": [],
   "source": [
    "# Create train data loader\n",
    "max_degree = 10\n",
    "tr_crop = tf.Compose([\n",
    "        tf.ToTensor(), \n",
    "        tf.Normalize(mean = [.5], std = [.5]),\n",
    "        tf.RandomCrop(32, padding=4)\n",
    "        ])\n",
    "SVHNTrain_crop = SVHN(data_path+'/svhn/train_32x32.mat',tr_crop)\n",
    "train_loader_crop = torch.utils.data.DataLoader(dataset=SVHNTrain_crop,\n",
    "                                               batch_size=256, \n",
    "                                               shuffle=True)\n",
    "\n",
    "\n",
    "SVHNTest_crop = SVHN(data_path+'/svhn/test_32x32.mat',tr_crop)\n",
    "test_loader_crop = torch.utils.data.DataLoader(dataset=SVHNTest,\n",
    "                                               batch_size=256, \n",
    "                                               shuffle=True)"
   ]
  },
  {
   "cell_type": "code",
   "execution_count": null,
   "metadata": {},
   "outputs": [
    {
     "name": "stdout",
     "output_type": "stream",
     "text": [
      "Epoch [1/5], Step [100/287], Loss: 1.6737\n",
      "Epoch [1/5], Step [200/287], Loss: 1.2317\n",
      "Epoch [2/5], Step [100/287], Loss: 1.2649\n",
      "Epoch [2/5], Step [200/287], Loss: 0.9853\n",
      "Epoch [3/5], Step [100/287], Loss: 1.0814\n",
      "Epoch [3/5], Step [200/287], Loss: 0.8382\n",
      "Epoch [4/5], Step [100/287], Loss: 0.8512\n",
      "Epoch [4/5], Step [200/287], Loss: 0.8742\n",
      "Epoch [5/5], Step [100/287], Loss: 0.7662\n",
      "Epoch [5/5], Step [200/287], Loss: 0.8176\n"
     ]
    },
    {
     "data": {
      "image/png": "[encoded data removed]",
      "text/plain": [
       "<Figure size 640x480 with 1 Axes>"
      ]
     },
     "metadata": {},
     "output_type": "display_data"
    },
    {
     "name": "stdout",
     "output_type": "stream",
     "text": [
      "Test accuracy is: 84.0081438229871 %\n"
     ]
    }
   ],
   "source": [
    "BaseCNN = BaseConvNet()\n",
    "\n",
    "criterion = nn.CrossEntropyLoss()\n",
    "\n",
    "#Initialize optimizer \n",
    "learning_rate = .001\n",
    "optimizer = torch.optim.Adam(BaseCNN.parameters(), lr = learning_rate)\n",
    "\n",
    "\n",
    "# Device configuration (choose GPU if it is available )\n",
    "device = torch.device('cuda:0' if torch.cuda.is_available() else 'cpu')\n",
    "num_epochs = 5\n",
    "\n",
    "# Train and test the model\n",
    "loss_hist = train(BaseCNN, train_loader_crop, optimizer, num_epochs, model_name='cropped_model.pkt', device=device)\n",
    "plt.plot(loss_hist)\n",
    "plt.show()\n",
    "\n",
    "\n",
    "print('Test accuracy is: {} %'.format(test(BaseCNN, test_loader_crop)))"
   ]
  },
  {
   "cell_type": "code",
   "execution_count": null,
   "metadata": {},
   "outputs": [
    {
     "name": "stdout",
     "output_type": "stream",
     "text": [
      "Epoch [1/5], Step [100/287], Loss: 0.9952\n",
      "Epoch [1/5], Step [200/287], Loss: 0.7649\n",
      "Epoch [2/5], Step [100/287], Loss: 0.5483\n",
      "Epoch [2/5], Step [200/287], Loss: 0.5972\n",
      "Epoch [3/5], Step [100/287], Loss: 0.5186\n",
      "Epoch [3/5], Step [200/287], Loss: 0.5389\n",
      "Epoch [4/5], Step [100/287], Loss: 0.4933\n",
      "Epoch [4/5], Step [200/287], Loss: 0.3674\n",
      "Epoch [5/5], Step [100/287], Loss: 0.4698\n",
      "Epoch [5/5], Step [200/287], Loss: 0.5424\n"
     ]
    },
    {
     "data": {
      "image/png": "[encoded data removed]",
      "text/plain": [
       "<Figure size 640x480 with 1 Axes>"
      ]
     },
     "metadata": {},
     "output_type": "display_data"
    },
    {
     "name": "stdout",
     "output_type": "stream",
     "text": [
      "Test accuracy is: 84.81868469575906 %\n"
     ]
    }
   ],
   "source": [
    "BaseCNN = BaseConvNet()\n",
    "\n",
    "criterion = nn.CrossEntropyLoss()\n",
    "\n",
    "#Initialize optimizer \n",
    "learning_rate = .001\n",
    "optimizer = torch.optim.Adam(BaseCNN.parameters(), lr = learning_rate)\n",
    "\n",
    "\n",
    "# Device configuration (choose GPU if it is available )\n",
    "device = torch.device('cuda:0' if torch.cuda.is_available() else 'cpu')\n",
    "num_epochs = 5\n",
    "\n",
    "# Train and test the model\n",
    "loss_hist = train(BaseCNN, train_loader_rot, optimizer, num_epochs, model_name='rotated_model.pkt', device=device)\n",
    "plt.plot(loss_hist)\n",
    "plt.show()\n",
    "\n",
    "\n",
    "print('Test accuracy is: {} %'.format(test(BaseCNN, test_loader_rot)))"
   ]
  },
  {
   "cell_type": "markdown",
   "metadata": {},
   "source": [
    "### Other Alternatives"
   ]
  },
  {
   "cell_type": "markdown",
   "metadata": {},
   "source": [
    "#### Schedulers"
   ]
  },
  {
   "cell_type": "code",
   "execution_count": null,
   "metadata": {},
   "outputs": [],
   "source": [
    "# Train function\n",
    "import torch.optim.lr_scheduler as lrs\n",
    "def train_sched(CNN, train_loader, optimizer, num_epochs=5, model_name='scheduled_model.ckpt', device='cpu', scheduler=None,criterion=nn.CrossEntropyLoss()):\n",
    "    CNN.train() # Set the model in train mode\n",
    "    if scheduler is not None: scheduler = lrs.ExponentialLR(optimizer, gamma=0.95) \n",
    "    total_step = len(train_loader)\n",
    "    losses_list = []\n",
    "    \n",
    "    # Iterate over epochs\n",
    "    for epoch in range(num_epochs):\n",
    "        # Iterate the dataset\n",
    "        loss_avg = 0\n",
    "        nBatches = 0\n",
    "        for i, (images, labels) in enumerate(train_loader):\n",
    "            # Get batch of samples and labels\n",
    "            images = images.to(device)\n",
    "            labels = labels.type(torch.LongTensor).to(device)\n",
    "\n",
    "            # Forward pass\n",
    "            outputs = CNN(images)\n",
    "            loss = criterion(outputs, labels)\n",
    "            # Backward and optimize\n",
    "            optimizer.zero_grad()\n",
    "            loss.backward()\n",
    "            optimizer.step()\n",
    "            losses_list.append(loss.cpu().item())\n",
    "            loss_avg += loss.cpu().item()\n",
    "            nBatches+=1\n",
    "            if (i+1) % 100 == 0:\n",
    "                if scheduler is not None:\n",
    "                    for param_group in optimizer.param_groups:\n",
    "                        print(\"Current learning rate is: {}\".format(param_group['lr']))\n",
    "                print ('Epoch [{}/{}], Step [{}/{}], Loss: {:.4f}' \n",
    "                       .format(epoch+1, num_epochs, i+1, total_step, loss_avg / nBatches))\n",
    "        print ('Epoch [{}/{}], Step [{}/{}], Loss: {:.4f}' \n",
    "                       .format(epoch+1, num_epochs, i+1, total_step, loss_avg / nBatches))\n",
    "        if scheduler is not None: scheduler.step()\n",
    "        \n",
    "\n",
    "        # losses_list.append(loss_avg / nBatches)\n",
    "        torch.save(CNN.state_dict(), results_path+ '/' + model_name)\n",
    "    return losses_list"
   ]
  },
  {
   "cell_type": "code",
   "execution_count": null,
   "metadata": {},
   "outputs": [
    {
     "name": "stdout",
     "output_type": "stream",
     "text": [
      "Current learning rate is: 0.001\n",
      "Epoch [1/5], Step [100/287], Loss: 1.7819\n",
      "Current learning rate is: 0.001\n",
      "Epoch [1/5], Step [200/287], Loss: 1.2814\n",
      "Epoch [1/5], Step [287/287], Loss: 1.0879\n",
      "Current learning rate is: 0.00095\n",
      "Epoch [2/5], Step [100/287], Loss: 0.5771\n",
      "Current learning rate is: 0.00095\n",
      "Epoch [2/5], Step [200/287], Loss: 0.5705\n",
      "Epoch [2/5], Step [287/287], Loss: 0.5614\n",
      "Current learning rate is: 0.0009025\n",
      "Epoch [3/5], Step [100/287], Loss: 0.4986\n",
      "Current learning rate is: 0.0009025\n",
      "Epoch [3/5], Step [200/287], Loss: 0.4981\n",
      "Epoch [3/5], Step [287/287], Loss: 0.4961\n",
      "Current learning rate is: 0.000857375\n",
      "Epoch [4/5], Step [100/287], Loss: 0.4597\n",
      "Current learning rate is: 0.000857375\n",
      "Epoch [4/5], Step [200/287], Loss: 0.4520\n",
      "Epoch [4/5], Step [287/287], Loss: 0.4561\n",
      "Current learning rate is: 0.0008145062499999999\n",
      "Epoch [5/5], Step [100/287], Loss: 0.4359\n",
      "Current learning rate is: 0.0008145062499999999\n",
      "Epoch [5/5], Step [200/287], Loss: 0.4307\n",
      "Epoch [5/5], Step [287/287], Loss: 0.4285\n"
     ]
    },
    {
     "ename": "ValueError",
     "evalue": "x, y, and format string must not be None",
     "output_type": "error",
     "traceback": [
      "\u001b[1;31m---------------------------------------------------------------------------\u001b[0m\n",
      "\n",
      "\u001b[1;31mValueError\u001b[0m                                Traceback (most recent call last)\n",
      "\n",
      "\u001b[1;32mc:\\eduard\\uni\\3er\\trim3\\DeepLearning\\DeepLearning\\P3\\P3-Questions-PART3.ipynb Cell 27\u001b[0m in \u001b[0;36m1\n",
      "\n",
      "\u001b[0;32m     <a href='vscode-notebook-cell:/c%3A/eduard/uni/3er/trim3/DeepLearning/DeepLearning/P3/P3-Questions-PART3.ipynb#Y105sZmlsZQ%3D%3D?line=13'>14</a>\u001b[0m \u001b[39m# Train and test the model\u001b[39;00m\n",
      "\n",
      "\u001b[0;32m     <a href='vscode-notebook-cell:/c%3A/eduard/uni/3er/trim3/DeepLearning/DeepLearning/P3/P3-Questions-PART3.ipynb#Y105sZmlsZQ%3D%3D?line=14'>15</a>\u001b[0m loss_hist \u001b[39m=\u001b[39m train_sched(BaseCNN, train_loader, optimizer, num_epochs, model_name\u001b[39m=\u001b[39m\u001b[39m'\u001b[39m\u001b[39mscheduled_model.pkt\u001b[39m\u001b[39m'\u001b[39m, device\u001b[39m=\u001b[39mdevice, scheduler\u001b[39m=\u001b[39m\u001b[39mTrue\u001b[39;00m)\n",
      "\n",
      "\u001b[1;32m---> <a href='vscode-notebook-cell:/c%3A/eduard/uni/3er/trim3/DeepLearning/DeepLearning/P3/P3-Questions-PART3.ipynb#Y105sZmlsZQ%3D%3D?line=15'>16</a>\u001b[0m plt\u001b[39m.\u001b[39;49mplot(loss_hist)\n",
      "\n",
      "\u001b[0;32m     <a href='vscode-notebook-cell:/c%3A/eduard/uni/3er/trim3/DeepLearning/DeepLearning/P3/P3-Questions-PART3.ipynb#Y105sZmlsZQ%3D%3D?line=16'>17</a>\u001b[0m plt\u001b[39m.\u001b[39mshow()\n",
      "\n",
      "\u001b[0;32m     <a href='vscode-notebook-cell:/c%3A/eduard/uni/3er/trim3/DeepLearning/DeepLearning/P3/P3-Questions-PART3.ipynb#Y105sZmlsZQ%3D%3D?line=19'>20</a>\u001b[0m \u001b[39mprint\u001b[39m(\u001b[39m'\u001b[39m\u001b[39mTest accuracy is: \u001b[39m\u001b[39m{}\u001b[39;00m\u001b[39m \u001b[39m\u001b[39m%\u001b[39m\u001b[39m'\u001b[39m\u001b[39m.\u001b[39mformat(test(BaseCNN, test_loader)))\n",
      "\n",
      "\n",
      "\n",
      "File \u001b[1;32mc:\\Users\\erodriguez\\AppData\\Local\\Programs\\Python\\Python39\\lib\\site-packages\\matplotlib\\pyplot.py:2740\u001b[0m, in \u001b[0;36mplot\u001b[1;34m(scalex, scaley, data, *args, **kwargs)\u001b[0m\n",
      "\n",
      "\u001b[0;32m   2738\u001b[0m \u001b[39m@_copy_docstring_and_deprecators\u001b[39m(Axes\u001b[39m.\u001b[39mplot)\n",
      "\n",
      "\u001b[0;32m   2739\u001b[0m \u001b[39mdef\u001b[39;00m \u001b[39mplot\u001b[39m(\u001b[39m*\u001b[39margs, scalex\u001b[39m=\u001b[39m\u001b[39mTrue\u001b[39;00m, scaley\u001b[39m=\u001b[39m\u001b[39mTrue\u001b[39;00m, data\u001b[39m=\u001b[39m\u001b[39mNone\u001b[39;00m, \u001b[39m*\u001b[39m\u001b[39m*\u001b[39mkwargs):\n",
      "\n",
      "\u001b[1;32m-> 2740\u001b[0m     \u001b[39mreturn\u001b[39;00m gca()\u001b[39m.\u001b[39mplot(\n",
      "\n",
      "\u001b[0;32m   2741\u001b[0m         \u001b[39m*\u001b[39margs, scalex\u001b[39m=\u001b[39mscalex, scaley\u001b[39m=\u001b[39mscaley,\n",
      "\n",
      "\u001b[0;32m   2742\u001b[0m         \u001b[39m*\u001b[39m\u001b[39m*\u001b[39m({\u001b[39m\"\u001b[39m\u001b[39mdata\u001b[39m\u001b[39m\"\u001b[39m: data} \u001b[39mif\u001b[39;00m data \u001b[39mis\u001b[39;00m \u001b[39mnot\u001b[39;00m \u001b[39mNone\u001b[39;00m \u001b[39melse\u001b[39;00m {}), \u001b[39m*\u001b[39m\u001b[39m*\u001b[39mkwargs)\n",
      "\n",
      "\n",
      "\n",
      "File \u001b[1;32mc:\\Users\\erodriguez\\AppData\\Local\\Programs\\Python\\Python39\\lib\\site-packages\\matplotlib\\axes\\_axes.py:1662\u001b[0m, in \u001b[0;36mAxes.plot\u001b[1;34m(self, scalex, scaley, data, *args, **kwargs)\u001b[0m\n",
      "\n",
      "\u001b[0;32m   1419\u001b[0m \u001b[39m\"\"\"\u001b[39;00m\n",
      "\n",
      "\u001b[0;32m   1420\u001b[0m \u001b[39mPlot y versus x as lines and/or markers.\u001b[39;00m\n",
      "\n",
      "\u001b[0;32m   1421\u001b[0m \n",
      "\n",
      "\u001b[1;32m   (...)\u001b[0m\n",
      "\n",
      "\u001b[0;32m   1659\u001b[0m \u001b[39m(``'green'``) or hex strings (``'#008000'``).\u001b[39;00m\n",
      "\n",
      "\u001b[0;32m   1660\u001b[0m \u001b[39m\"\"\"\u001b[39;00m\n",
      "\n",
      "\u001b[0;32m   1661\u001b[0m kwargs \u001b[39m=\u001b[39m cbook\u001b[39m.\u001b[39mnormalize_kwargs(kwargs, mlines\u001b[39m.\u001b[39mLine2D)\n",
      "\n",
      "\u001b[1;32m-> 1662\u001b[0m lines \u001b[39m=\u001b[39m [\u001b[39m*\u001b[39m\u001b[39mself\u001b[39m\u001b[39m.\u001b[39m_get_lines(\u001b[39m*\u001b[39margs, data\u001b[39m=\u001b[39mdata, \u001b[39m*\u001b[39m\u001b[39m*\u001b[39mkwargs)]\n",
      "\n",
      "\u001b[0;32m   1663\u001b[0m \u001b[39mfor\u001b[39;00m line \u001b[39min\u001b[39;00m lines:\n",
      "\n",
      "\u001b[0;32m   1664\u001b[0m     \u001b[39mself\u001b[39m\u001b[39m.\u001b[39madd_line(line)\n",
      "\n",
      "\n",
      "\n",
      "File \u001b[1;32mc:\\Users\\erodriguez\\AppData\\Local\\Programs\\Python\\Python39\\lib\\site-packages\\matplotlib\\axes\\_base.py:311\u001b[0m, in \u001b[0;36m_process_plot_var_args.__call__\u001b[1;34m(self, data, *args, **kwargs)\u001b[0m\n",
      "\n",
      "\u001b[0;32m    309\u001b[0m     this \u001b[39m+\u001b[39m\u001b[39m=\u001b[39m args[\u001b[39m0\u001b[39m],\n",
      "\n",
      "\u001b[0;32m    310\u001b[0m     args \u001b[39m=\u001b[39m args[\u001b[39m1\u001b[39m:]\n",
      "\n",
      "\u001b[1;32m--> 311\u001b[0m \u001b[39myield from\u001b[39;00m \u001b[39mself\u001b[39;49m\u001b[39m.\u001b[39;49m_plot_args(\n",
      "\n",
      "\u001b[0;32m    312\u001b[0m     this, kwargs, ambiguous_fmt_datakey\u001b[39m=\u001b[39;49mambiguous_fmt_datakey)\n",
      "\n",
      "\n",
      "\n",
      "File \u001b[1;32mc:\\Users\\erodriguez\\AppData\\Local\\Programs\\Python\\Python39\\lib\\site-packages\\matplotlib\\axes\\_base.py:465\u001b[0m, in \u001b[0;36m_process_plot_var_args._plot_args\u001b[1;34m(self, tup, kwargs, return_kwargs, ambiguous_fmt_datakey)\u001b[0m\n",
      "\n",
      "\u001b[0;32m    462\u001b[0m \u001b[39m# Don't allow any None value; these would be up-converted to one\u001b[39;00m\n",
      "\n",
      "\u001b[0;32m    463\u001b[0m \u001b[39m# element array of None which causes problems downstream.\u001b[39;00m\n",
      "\n",
      "\u001b[0;32m    464\u001b[0m \u001b[39mif\u001b[39;00m \u001b[39many\u001b[39m(v \u001b[39mis\u001b[39;00m \u001b[39mNone\u001b[39;00m \u001b[39mfor\u001b[39;00m v \u001b[39min\u001b[39;00m tup):\n",
      "\n",
      "\u001b[1;32m--> 465\u001b[0m     \u001b[39mraise\u001b[39;00m \u001b[39mValueError\u001b[39;00m(\u001b[39m\"\u001b[39m\u001b[39mx, y, and format string must not be None\u001b[39m\u001b[39m\"\u001b[39m)\n",
      "\n",
      "\u001b[0;32m    467\u001b[0m kw \u001b[39m=\u001b[39m {}\n",
      "\n",
      "\u001b[0;32m    468\u001b[0m \u001b[39mfor\u001b[39;00m prop_name, val \u001b[39min\u001b[39;00m \u001b[39mzip\u001b[39m((\u001b[39m'\u001b[39m\u001b[39mlinestyle\u001b[39m\u001b[39m'\u001b[39m, \u001b[39m'\u001b[39m\u001b[39mmarker\u001b[39m\u001b[39m'\u001b[39m, \u001b[39m'\u001b[39m\u001b[39mcolor\u001b[39m\u001b[39m'\u001b[39m),\n",
      "\n",
      "\u001b[0;32m    469\u001b[0m                           (linestyle, marker, color)):\n",
      "\n",
      "\n",
      "\n",
      "\u001b[1;31mValueError\u001b[0m: x, y, and format string must not be None"
     ]
    },
    {
     "data": {
      "image/png": "[encoded data removed]",
      "text/plain": [
       "<Figure size 640x480 with 1 Axes>"
      ]
     },
     "metadata": {},
     "output_type": "display_data"
    }
   ],
   "source": [
    "BaseCNN = BaseConvNet()\n",
    "\n",
    "criterion = nn.CrossEntropyLoss()\n",
    "\n",
    "#Initialize optimizer \n",
    "learning_rate = .001\n",
    "optimizer = torch.optim.Adam(BaseCNN.parameters(), lr = learning_rate)\n",
    "\n",
    "\n",
    "# Device configuration (choose GPU if it is available )\n",
    "device = torch.device('cuda:0' if torch.cuda.is_available() else 'cpu')\n",
    "num_epochs = 5\n",
    "\n",
    "# Train and test the model\n",
    "loss_hist = train_sched(BaseCNN, train_loader, optimizer, num_epochs, model_name='scheduled_model.pkt', device=device, scheduler=True)\n",
    "plt.plot(loss_hist)\n",
    "plt.show()\n",
    "\n",
    "\n",
    "print('Test accuracy is: {} %'.format(test(BaseCNN, test_loader)))"
   ]
  },
  {
   "cell_type": "markdown",
   "metadata": {},
   "source": [
    "#### Batch Hard"
   ]
  },
  {
   "cell_type": "code",
   "execution_count": null,
   "metadata": {},
   "outputs": [],
   "source": [
    "def get_batch_hard(CNN, train_loader, prop=0.7, device='cpu'):\n",
    "    with torch.no_grad():\n",
    "        losses = []\n",
    "        for images, labels in train_loader:\n",
    "            images = images.to(device)\n",
    "            labels = labels.to(device)\n",
    "            # get network predictions\n",
    "            outputs = CNN(images)\n",
    "            # get loss\n",
    "            loss = criterion(outputs, labels)\n",
    "            losses.append(loss)\n",
    "        losses = torch.stack(losses)\n",
    "        losses = losses.cpu().numpy()\n",
    "        idx = np.argsort(losses)[::-1]\n",
    "        idx_hard_batches = idx[:int(len(train_loader)*prop)]\n",
    "        return idx_hard_batches\n",
    "\n",
    "\n",
    "def train_hard(CNN, train_loader, optimizer, num_epochs=5, prop=0.7, model_name='hard_model.ckpt', device='cpu', scheduler=None):\n",
    "\n",
    "# get the batches to run through the model\n",
    "    idx_hard = get_batch_hard(CNN, train_loader, prop=prop, device=device)\n",
    "    CNN.train() # Set the model in train mode\n",
    "    if scheduler is not None: scheduler = lrs.ExponentialLR(optimizer, gamma=0.95) \n",
    "    total_step = len(train_loader)\n",
    "    losses_list = []\n",
    "    \n",
    "    # Iterate over epochs\n",
    "    for epoch in range(num_epochs):\n",
    "        # Iterate the dataset\n",
    "        loss_avg = 0\n",
    "        nBatches = 0\n",
    "        for i, (images, labels) in enumerate(train_loader):\n",
    "            if i not in idx_hard: continue\n",
    "            # Get batch of samples and labels\n",
    "            images = images.to(device)\n",
    "            labels = labels.type(torch.LongTensor).to(device)\n",
    "\n",
    "            # Forward pass\n",
    "            outputs = CNN(images)\n",
    "            loss = criterion(outputs, labels)\n",
    "            \n",
    "            # Backward and optimize\n",
    "            optimizer.zero_grad()\n",
    "            loss.backward()\n",
    "            optimizer.step()\n",
    "            losses_list.append(loss.cpu().item())\n",
    "            loss_avg += loss.cpu().item()\n",
    "            nBatches+=1\n",
    "            if (i+1) % 100 == 0:\n",
    "                if scheduler is not None:\n",
    "                    for param_group in optimizer.param_groups:\n",
    "                        print(\"Current learning rate is: {}\".format(param_group['lr']))\n",
    "                print ('Epoch [{}/{}], Step [{}/{}], Loss: {:.4f}' \n",
    "                       .format(epoch+1, num_epochs, i+1, total_step, loss_avg / nBatches))\n",
    "        print ('Epoch [{}/{}], Step [{}/{}], Loss: {:.4f}' \n",
    "                       .format(epoch+1, num_epochs, i+1, total_step, loss_avg / nBatches))\n",
    "        if scheduler is not None: scheduler.step()\n",
    "        \n",
    "\n",
    "        # losses_list.append(loss_avg / nBatches)\n",
    "        torch.save(CNN.state_dict(), results_path+ '/' + model_name)\n",
    "          \n",
    "    return losses_list "
   ]
  },
  {
   "cell_type": "code",
   "execution_count": null,
   "metadata": {},
   "outputs": [
    {
     "name": "stdout",
     "output_type": "stream",
     "text": [
      "Epoch [1/3], Step [100/287], Loss: 1.0192\n",
      "Epoch [1/3], Step [200/287], Loss: 0.6908\n",
      "Epoch [2/3], Step [100/287], Loss: 0.6525\n",
      "Epoch [2/3], Step [200/287], Loss: 0.4616\n",
      "Epoch [3/3], Step [100/287], Loss: 0.4477\n",
      "Epoch [3/3], Step [200/287], Loss: 0.4000\n",
      "Epoch [1/2], Step [100/287], Loss: 0.4526\n",
      "Epoch [1/2], Step [200/287], Loss: 0.4504\n",
      "Epoch [1/2], Step [287/287], Loss: 0.4512\n",
      "Epoch [2/2], Step [100/287], Loss: 0.4339\n",
      "Epoch [2/2], Step [200/287], Loss: 0.4316\n",
      "Epoch [2/2], Step [287/287], Loss: 0.4299\n"
     ]
    },
    {
     "data": {
      "image/png": "[encoded data removed]",
      "text/plain": [
       "<Figure size 640x480 with 1 Axes>"
      ]
     },
     "metadata": {},
     "output_type": "display_data"
    },
    {
     "name": "stdout",
     "output_type": "stream",
     "text": [
      "Test accuracy is: 86.11324523663184 %\n"
     ]
    }
   ],
   "source": [
    "BaseCNN = BaseConvNet()\n",
    "\n",
    "criterion = nn.CrossEntropyLoss()\n",
    "\n",
    "#Initialize optimizer \n",
    "learning_rate = .001\n",
    "optimizer = torch.optim.Adam(BaseCNN.parameters(), lr = learning_rate)\n",
    "\n",
    "\n",
    "# Device configuration (choose GPU if it is available )\n",
    "device = torch.device('cuda:0' if torch.cuda.is_available() else 'cpu')\n",
    "num_epochs_ez = 3\n",
    "# Train and test the model\n",
    "loss_hist_ez = train(BaseCNN, train_loader, optimizer, num_epochs_ez, model_name='ez_model.pkt', device=device)\n",
    "\n",
    "num_epochs_hard = 2\n",
    "loss_hist_hard = train_hard(BaseCNN, train_loader, optimizer, num_epochs_hard, prop=0.7, model_name='hard_model.pkt', device=device)\n",
    "\n",
    "loss_hist = loss_hist_ez + loss_hist_hard\n",
    "plt.plot(loss_hist)\n",
    "plt.show()\n",
    "\n",
    "\n",
    "print('Test accuracy is: {} %'.format(test(BaseCNN, test_loader)))"
   ]
  },
  {
   "attachments": {},
   "cell_type": "markdown",
   "metadata": {},
   "source": [
    "# Ex. 2"
   ]
  },
  {
   "attachments": {},
   "cell_type": "markdown",
   "metadata": {},
   "source": [
    "# **Building your own efficient Convolutional Network architecture for SVHN**\n",
    "\n",
    "In the following,  you will need to build your own CNN architecture to predict digit numbers on the SVHN dataset. You are completely free to use any kind of layers and hyper-parameters for this purpose. Your goal is to acheive the maximum possible accuracy on the test set (the better, the higher score you'll get in the exercice). The only constraint is that your model should not contain more than 150K parameters. Below, we provide a simple code to compute the number of parameters in a model."
   ]
  },
  {
   "attachments": {},
   "cell_type": "markdown",
   "metadata": {},
   "source": [
    "## Computing model parameters"
   ]
  },
  {
   "cell_type": "code",
   "execution_count": 11,
   "metadata": {},
   "outputs": [],
   "source": [
    "# Compute model paramters\n",
    "def compute_model_params(model):\n",
    "  params = 0\n",
    "  for p in model.parameters():\n",
    "    params+= p.numel()\n",
    "  return params"
   ]
  },
  {
   "cell_type": "code",
   "execution_count": 13,
   "metadata": {},
   "outputs": [
    {
     "name": "stdout",
     "output_type": "stream",
     "text": [
      "ResNet Parameters: 153546\n",
      "THIS MODEL CONTAINS 153K PARAMS, IT IS CONSIDERED NOT VALID FOR THE EXERCICE!!!!!!\n"
     ]
    }
   ],
   "source": [
    "import torch\n",
    "import torch.nn as nn\n",
    "\n",
    "# ResNet style network\n",
    "class ResSim(nn.Module):\n",
    "    def __init__(self, num_classes=10):\n",
    "        \n",
    "        super(ResSim, self).__init__()\n",
    "        \n",
    "    \n",
    "        self.conv11 = nn.Conv2d(3, 64, kernel_size=3, stride=1, padding=1)\n",
    "        self.conv12 = nn.Conv2d(64, 64, kernel_size=3, stride=1, padding=1)\n",
    "        \n",
    "        self.conv21 = nn.Conv2d(64, 64, kernel_size=3, stride=1, padding=1)\n",
    "        self.conv22 = nn.Conv2d(64, 64, kernel_size=3, stride=1, padding=1)\n",
    "        \n",
    "        self.fc = nn.Linear(8*8*64, num_classes)\n",
    "        \n",
    "        self.maxpool= nn.MaxPool2d(kernel_size=2, stride=2)\n",
    "        self.relu = nn.ReLU()\n",
    "        \n",
    "    def forward(self, x):\n",
    "        \n",
    "        out11 = self.relu(self.conv11(x))\n",
    "        out12 = self.relu(self.conv12(out11)) + out11\n",
    "\n",
    "        out = self.maxpool(out12)\n",
    "\n",
    "        out21 = self.relu(self.conv21(out)) \n",
    "        out = self.relu(self.conv22(out21)) + out21\n",
    "        out = self.maxpool(out)\n",
    "        \n",
    "        #print(out.shape)\n",
    "        out = out.view(out.size(0), -1)\n",
    "        out = self.fc(out)\n",
    "        \n",
    "        return out\n",
    "# Initialize the model\n",
    "model = ResSim(num_classes=10)\n",
    "# Compute and print number of params\n",
    "n_params = compute_model_params(model)\n",
    "print(\"ResNet Parameters: \" + str(n_params)) ## \n",
    "print(\"THIS MODEL CONTAINS 153K PARAMS, IT IS CONSIDERED NOT VALID FOR THE EXERCICE!!!!!!\")"
   ]
  },
  {
   "cell_type": "code",
   "execution_count": null,
   "metadata": {},
   "outputs": [],
   "source": [
    "'''\n",
    "1. Design and implement your own CNN. Given that the number of parameters must be small, you can check some papers focused on efficient CNN architectures and get some ideas.\n",
    "  - MobileNet: https://arxiv.org/abs/1704.04861\n",
    "  - MobileNet V2: https://arxiv.org/pdf/1801.04381.pdf\n",
    "  - SqueezeNet: https://arxiv.org/abs/1602.07360\n",
    "  - ShuffleNet: https://arxiv.org/abs/1707.01083\n",
    "  - ESPNet V2: https://arxiv.org/abs/1811.11431\n",
    "2. Train it and test it on SVHN using the provided code.\n",
    "3. Discuss what approaches have you tried, why, and which ones have shown to be more beneficial.\n",
    "'''\n"
   ]
  },
  {
   "attachments": {},
   "cell_type": "markdown",
   "metadata": {},
   "source": [
    "## Sol. 2"
   ]
  },
  {
   "attachments": {},
   "cell_type": "markdown",
   "metadata": {},
   "source": [
    "### Define your own model and check the number of total parameters"
   ]
  },
  {
   "cell_type": "code",
   "execution_count": null,
   "metadata": {},
   "outputs": [],
   "source": [
    "class DWSConv(nn.Module): # depth-wise separable convolution\n",
    "    def __init__(self, nin, nout):\n",
    "        super(DWSConv, self).__init__()\n",
    "        self.depthwise = nn.Conv2d(nin, nin, kernel_size=3, padding=1, groups=nin)\n",
    "        self.pointwise = nn.Conv2d(nin, nout, kernel_size=1)\n",
    "\n",
    "    def forward(self, x):\n",
    "        out = self.depthwise(x)\n",
    "        out = self.pointwise(out)\n",
    "        return out"
   ]
  },
  {
   "cell_type": "code",
   "execution_count": 37,
   "metadata": {},
   "outputs": [
    {
     "name": "stdout",
     "output_type": "stream",
     "text": [
      "MyModel Parameters: 131498\n"
     ]
    }
   ],
   "source": [
    "# Define an standard CNN -> Two conv. blocks and linear layer \n",
    "import torch.nn as nn\n",
    "class GavamarNet(nn.Module):\n",
    "    def __init__(self, num_classes=10):\n",
    "        \n",
    "        super(GavamarNet, self).__init__()\n",
    "        \n",
    "        self.conv11 = nn.Conv2d(3, 16, kernel_size=3,  padding=1) \n",
    "        self.conv12 = nn.Conv2d(16, 16, kernel_size=3, padding=1)\n",
    "        self.conv13 = nn.Conv2d(16, 16, kernel_size=3, padding=1)\n",
    "        # after maxpooling, the dimensions are 16x16x16\n",
    "\n",
    "        self.conv21 = nn.Conv2d(16, 32, kernel_size=3, padding=1)\n",
    "        self.conv22 = nn.Conv2d(32, 32, kernel_size=3, padding=1)\n",
    "        self.conv23 = nn.Conv2d(32, 32, kernel_size=3, padding=1)\n",
    "        # after maxpooling, the dimensions are 8x8x32\n",
    "\n",
    "        self.conv31 = nn.Conv2d(32, 64, kernel_size=3, padding=1)\n",
    "        self.conv32 = nn.Conv2d(64, 64, kernel_size=3, padding=1)\n",
    "        self.conv33 = nn.Conv2d(64, 64, kernel_size=3, padding=1)\n",
    "        # after maxpooling, the dimensions are 4x4x64\n",
    "        \n",
    "        self.fc = nn.Linear(4*4*64, num_classes,)\n",
    "        \n",
    "        self.maxpool= nn.MaxPool2d(kernel_size=2, stride=2)\n",
    "        self.avgpool= nn.AvgPool2d(kernel_size=2, stride=2)\n",
    "\n",
    "        self.relu = nn.ReLU()\n",
    "        self.bn12 = nn.BatchNorm2d(16)\n",
    "        self.bn13 = nn.BatchNorm2d(16)\n",
    "        self.bn14 = nn.BatchNorm2d(16)\n",
    "\n",
    "        self.bn22 = nn.BatchNorm2d(32)\n",
    "        self.bn23 = nn.BatchNorm2d(32)\n",
    "        self.bn24 = nn.BatchNorm2d(32)\n",
    "\n",
    "        self.bn32 = nn.BatchNorm2d(64)\n",
    "        self.bn33 = nn.BatchNorm2d(64)\n",
    "        self.bn34 = nn.BatchNorm2d(64)\n",
    "        # self.logsoftmax = nn.LogSoftmax(dim=1).cuda()\n",
    "\n",
    "# \n",
    "        \n",
    "    def forward(self, x):\n",
    "        \n",
    "        out11 = self.conv11(x)\n",
    "        out12 = self.relu(self.bn12(out11)) #preactivation\n",
    "        out12 = self.conv12(out12) #convolution\n",
    "        out13 = self.conv13(self.relu(self.bn13(out13))) #residual connection\n",
    "        out   = out11 + out13 #skip connection\n",
    "        out   = self.relu(self.bn14(out)) #postactivation\n",
    "        out   = self.maxpool(out)\n",
    "\n",
    "        out21 = self.conv21(out)\n",
    "        out22 = self.conv22(self.relu(self.bn22(out21))) #preactivation and convolution\n",
    "        out23 = self.conv23(self.relu(self.bn23(out22))) #residual connections\n",
    "        out   = out21 + out23 #skip connection\n",
    "        out   = self.relu(self.bn24(out)) #postactivation\n",
    "        out   = self.maxpool(out)\n",
    "\n",
    "        out31 = self.conv31(out)\n",
    "        out32 = self.conv32(self.relu(self.bn32(out31))) #preactivation and convolution\n",
    "        out33 = self.conv33(self.relu(self.bn33(out32))) #residual connections\n",
    "        out   = out31 + out33 #skip connection\n",
    "        out   = self.relu(self.bn34(out)) #postactivation\n",
    "        out   = self.avgpool(out)\n",
    "       \n",
    "        out = out.reshape(out.size(0), -1) \n",
    "        out = self.fc(out)\n",
    "        return out \n",
    "\n",
    "model = GavamarNet(num_classes=10)\n",
    "n_params = compute_model_params(model)\n",
    "print(\"MyModel Parameters: \" + str(n_params))\n"
   ]
  },
  {
   "attachments": {},
   "cell_type": "markdown",
   "metadata": {},
   "source": [
    "### Train your model on SVHN\n",
    "It is not allowed to change training hyper-parameters such as learning rate, batch size or number of epochs. You can only modify the architecture definition."
   ]
  },
  {
   "cell_type": "code",
   "execution_count": 18,
   "metadata": {},
   "outputs": [],
   "source": [
    "## Create SVHN database\n",
    "\n",
    "# All the data will be loaded from the provided file in Data/mnist.t\n",
    "import torch \n",
    "import torch.nn as nn\n",
    "import torchvision\n",
    "import torchvision.transforms as tf\n",
    "import matplotlib.pyplot as plt\n",
    "from PIL import Image\n",
    "import scipy.io as sio\n",
    "import numpy as np\n",
    "\n",
    "try: \n",
    "    base_path\n",
    "except NameError:\n",
    "    base_path = os.getcwd().replace('\\\\','/')\n",
    "data_path = base_path + '/Data/'\n",
    "results_path = base_path + '/Results/'\n",
    "\n",
    "#Making native class loader\n",
    "class SVHN(torch.utils.data.Dataset):\n",
    "    # Initialization method for the dataset\n",
    "    def __init__(self,dataDir = data_path+'/svhn/train_32x32.mat',transform = None):\n",
    "        mat_loaded = sio.loadmat(dataDir)\n",
    "        self.data = mat_loaded['X']\n",
    "        self.labels = mat_loaded['y'].squeeze()\n",
    "        self.labels -= self.labels.min()\n",
    "        self.transform = transform\n",
    "     # What to do to load a single item in the dataset ( read image and label)    \n",
    "    def __getitem__(self, index):\n",
    "        data = self.data[:,:,:,index]\n",
    "        lbl = self.labels[index]\n",
    "        \n",
    "        data = Image.fromarray(data)\n",
    "        # Apply a trasnformaiton to the image if it is indicated in the initalizer\n",
    "        if self.transform is not None : \n",
    "            data = self.transform(data)\n",
    "        \n",
    "        # return the image and the label\n",
    "        return data,lbl\n",
    "    \n",
    "        pass\n",
    "    \n",
    "    # Return the number of images\n",
    "    def __len__(self):\n",
    "        return self.data.shape[3]\n",
    "\n",
    "# Create train data loader\n",
    "tr = tf.Compose([\n",
    "        tf.ToTensor(), \n",
    "        tf.Normalize(mean = [.5], std = [.5])\n",
    "        ])\n",
    "SVHNTrain = SVHN(data_path+'/svhn/train_32x32.mat',tr)\n",
    "train_loader = torch.utils.data.DataLoader(dataset=SVHNTrain,\n",
    "                                               batch_size=256, \n",
    "                                               shuffle=True)"
   ]
  },
  {
   "cell_type": "code",
   "execution_count": 19,
   "metadata": {},
   "outputs": [],
   "source": [
    "# Train function\n",
    "def train(CNN, train_loader, optimizer, num_epochs=5, model_name='model.ckpt', device='cpu'):\n",
    "    CNN.train() # Set the model in train mode\n",
    "    total_step = len(train_loader)\n",
    "    losses_list = []\n",
    "    criterion = nn.CrossEntropyLoss()\n",
    "    # Iterate over epochs\n",
    "    for epoch in range(num_epochs):\n",
    "        # Iterate the dataset\n",
    "        loss_avg = 0\n",
    "        nBatches = 0\n",
    "        for i, (images, labels) in enumerate(train_loader):\n",
    "            # Get batch of samples and labels\n",
    "            images = images.to(device)\n",
    "            labels = labels.type(torch.LongTensor).to(device)\n",
    "\n",
    "            # Forward pass\n",
    "            outputs = CNN(images)\n",
    "            loss = criterion(outputs, labels)\n",
    "            \n",
    "            # Backward and optimize\n",
    "            optimizer.zero_grad()\n",
    "            loss.backward()\n",
    "            optimizer.step()\n",
    "\n",
    "            loss_avg += loss.cpu().item()\n",
    "            nBatches+=1\n",
    "            if (i+1) % 100 == 0:\n",
    "                print ('Epoch [{}/{}], Step [{}/{}], Loss: {:.4f}' \n",
    "                       .format(epoch+1, num_epochs, i+1, total_step, loss_avg / nBatches))\n",
    "        print ('Epoch [{}/{}], Step [{}/{}], Loss: {:.4f}' \n",
    "                       .format(epoch+1, num_epochs, i+1, total_step, loss_avg / nBatches))\n",
    "        losses_list.append(loss_avg / nBatches)\n",
    "        torch.save(CNN.state_dict(), results_path+ '/' + model_name)\n",
    "          \n",
    "    return losses_list \n",
    "\n",
    "# Test funcion\n",
    "def test(CNN, test_loader):\n",
    "  with torch.no_grad():\n",
    "        correct = 0\n",
    "        total = 0\n",
    "        for images, labels in test_loader:\n",
    "            images = images.to(device)\n",
    "            labels = labels.to(device)\n",
    "            # get network predictions\n",
    "            outputs = CNN(images)\n",
    "\n",
    "            # get predicted class\n",
    "            _, predicted = torch.max(outputs.data, 1)\n",
    "\n",
    "            # compare with the ground-truth\n",
    "            total += labels.size(0)\n",
    "            correct += (predicted == labels).sum().item()\n",
    "        # return accuracy\n",
    "        return 100 * correct / total"
   ]
  },
  {
   "cell_type": "code",
   "execution_count": 20,
   "metadata": {},
   "outputs": [
    {
     "name": "stdout",
     "output_type": "stream",
     "text": [
      "Epoch [1/10], Step [100/287], Loss: 1.0726\n",
      "Epoch [1/10], Step [200/287], Loss: 0.7494\n",
      "Epoch [1/10], Step [287/287], Loss: 0.6248\n",
      "Epoch [2/10], Step [100/287], Loss: 0.2890\n",
      "Epoch [2/10], Step [200/287], Loss: 0.2807\n",
      "Epoch [2/10], Step [287/287], Loss: 0.2761\n",
      "Epoch [3/10], Step [100/287], Loss: 0.2211\n",
      "Epoch [3/10], Step [200/287], Loss: 0.2224\n",
      "Epoch [3/10], Step [287/287], Loss: 0.2238\n",
      "Epoch [4/10], Step [100/287], Loss: 0.1913\n",
      "Epoch [4/10], Step [200/287], Loss: 0.1945\n",
      "Epoch [4/10], Step [287/287], Loss: 0.1931\n",
      "Epoch [5/10], Step [100/287], Loss: 0.1565\n",
      "Epoch [5/10], Step [200/287], Loss: 0.1682\n",
      "Epoch [5/10], Step [287/287], Loss: 0.1690\n",
      "Epoch [6/10], Step [100/287], Loss: 0.1436\n",
      "Epoch [6/10], Step [200/287], Loss: 0.1492\n",
      "Epoch [6/10], Step [287/287], Loss: 0.1483\n",
      "Epoch [7/10], Step [100/287], Loss: 0.1209\n",
      "Epoch [7/10], Step [200/287], Loss: 0.1284\n",
      "Epoch [7/10], Step [287/287], Loss: 0.1327\n",
      "Epoch [8/10], Step [100/287], Loss: 0.1033\n",
      "Epoch [8/10], Step [200/287], Loss: 0.1128\n",
      "Epoch [8/10], Step [287/287], Loss: 0.1167\n",
      "Epoch [9/10], Step [100/287], Loss: 0.0914\n",
      "Epoch [9/10], Step [200/287], Loss: 0.0963\n",
      "Epoch [9/10], Step [287/287], Loss: 0.1016\n",
      "Epoch [10/10], Step [100/287], Loss: 0.0840\n",
      "Epoch [10/10], Step [200/287], Loss: 0.0858\n",
      "Epoch [10/10], Step [287/287], Loss: 0.0885\n"
     ]
    }
   ],
   "source": [
    "#Train MyModel\n",
    "my_model = GavamarNet()\n",
    "\n",
    "#Initialize optimizer \n",
    "learning_rate = .1\n",
    "optimizer = torch.optim.SGD(my_model.parameters(),lr = learning_rate, \n",
    "                            weight_decay=1e-5, momentum=0.9)\n",
    "\n",
    "\n",
    "device = torch.device('cuda:0' if torch.cuda.is_available() else 'cpu')\n",
    "my_model = my_model.to(device)\n",
    "\n",
    "losses_list = train(my_model, train_loader, optimizer, num_epochs=10, model_name='GavamarNet.ckpt', device=device)\n"
   ]
  },
  {
   "attachments": {},
   "cell_type": "markdown",
   "metadata": {},
   "source": [
    "### Test your model\n",
    "As a reference, 93% of accuracy can be easily achieved by using only ~55000 parameters."
   ]
  },
  {
   "cell_type": "code",
   "execution_count": 22,
   "metadata": {},
   "outputs": [
    {
     "name": "stdout",
     "output_type": "stream",
     "text": [
      "Accuracy MyNet: 93.68085433312845\n"
     ]
    }
   ],
   "source": [
    "# Show results for all the trained models\n",
    "SVHNTest = SVHN(data_path+'/svhn/test_32x32.mat',tr)\n",
    "test_loader = torch.utils.data.DataLoader(dataset=SVHNTest,\n",
    "                                               batch_size=256, \n",
    "                                               shuffle=True)\n",
    "\n",
    "#\n",
    "my_net = GavamarNet()\n",
    "my_net.load_state_dict(torch.load(results_path + 'GavamarNet.ckpt'))\n",
    "my_net.to(device)\n",
    "acc = test(my_net, test_loader)\n",
    "print('Accuracy MyNet: ' + str(acc))"
   ]
  },
  {
   "attachments": {},
   "cell_type": "markdown",
   "metadata": {},
   "source": [
    "# Ex. 3"
   ]
  },
  {
   "cell_type": "code",
   "execution_count": null,
   "metadata": {},
   "outputs": [],
   "source": [
    "'''\n",
    "1. Use the implemented architecture in the previous exercice to solve the transfer learning\n",
    "   task provided in the examples.\n",
    "2. Try to fine-tune not only the last layer for the CNN but a larger subset of parameters.\n",
    "2. Report the test accuracy in each case and discuss the results. \n",
    "'''"
   ]
  },
  {
   "attachments": {},
   "cell_type": "markdown",
   "metadata": {},
   "source": [
    "## Sol. 3"
   ]
  },
  {
   "attachments": {},
   "cell_type": "markdown",
   "metadata": {},
   "source": [
    "### Initialize DataLoaders for Transfer Learning experiment"
   ]
  },
  {
   "cell_type": "code",
   "execution_count": 24,
   "metadata": {},
   "outputs": [],
   "source": [
    "max_degree = 10\n",
    "tr = tf.Compose([\n",
    "        tf.ToTensor(),\n",
    "        tf.Normalize(mean = [.5], std = [.5]),\n",
    "        tf.RandomCrop(32, padding=4),\n",
    "        tf.RandomRotation(max_degree)\n",
    "        ])\n",
    "\n",
    "# Big dataset with numbers from 1 to 8\n",
    "SVHNTrain_TL = SVHN(data_path+'/svhn_tl/tl_train_32x32.mat',tr)\n",
    "tl_train_loader = torch.utils.data.DataLoader(dataset=SVHNTrain_TL,\n",
    "                                               batch_size=256, \n",
    "                                               shuffle=True)\n",
    "\n",
    "# 200 samples of 0s and 9s\n",
    "SVHNTrain_TL_0_9 = SVHN(data_path+'/svhn_tl/tl_train_9_10_32x32.mat',tr)\n",
    "tl_train_loader_0_9 = torch.utils.data.DataLoader(dataset=SVHNTrain_TL_0_9,\n",
    "                                                  batch_size=64, \n",
    "                                                  shuffle=True)\n",
    "# Test dataset with 0 and 9s\n",
    "SVHNTest_TL_0_9 = SVHN(data_path+'/svhn_tl/tl_test_9_10_32x32.mat',tr)\n",
    "tl_test_loader_0_9 = torch.utils.data.DataLoader(dataset=SVHNTest_TL_0_9,\n",
    "                                                  batch_size=64, \n",
    "                                                  shuffle=True)"
   ]
  },
  {
   "attachments": {},
   "cell_type": "markdown",
   "metadata": {},
   "source": [
    "### Pre-train your model with the big dataset with numbers from 1 to 8"
   ]
  },
  {
   "cell_type": "code",
   "execution_count": 25,
   "metadata": {},
   "outputs": [
    {
     "name": "stdout",
     "output_type": "stream",
     "text": [
      "Epoch [1/10], Step [100/249], Loss: 1.3867\n",
      "Epoch [1/10], Step [200/249], Loss: 1.0087\n",
      "Epoch [1/10], Step [249/249], Loss: 0.9058\n",
      "Epoch [2/10], Step [100/249], Loss: 0.4041\n",
      "Epoch [2/10], Step [200/249], Loss: 0.3791\n",
      "Epoch [2/10], Step [249/249], Loss: 0.3718\n",
      "Epoch [3/10], Step [100/249], Loss: 0.3066\n",
      "Epoch [3/10], Step [200/249], Loss: 0.3033\n",
      "Epoch [3/10], Step [249/249], Loss: 0.2977\n",
      "Epoch [4/10], Step [100/249], Loss: 0.2641\n",
      "Epoch [4/10], Step [200/249], Loss: 0.2586\n",
      "Epoch [4/10], Step [249/249], Loss: 0.2578\n",
      "Epoch [5/10], Step [100/249], Loss: 0.2385\n",
      "Epoch [5/10], Step [200/249], Loss: 0.2391\n",
      "Epoch [5/10], Step [249/249], Loss: 0.2385\n",
      "Epoch [6/10], Step [100/249], Loss: 0.2235\n",
      "Epoch [6/10], Step [200/249], Loss: 0.2208\n",
      "Epoch [6/10], Step [249/249], Loss: 0.2215\n",
      "Epoch [7/10], Step [100/249], Loss: 0.2083\n",
      "Epoch [7/10], Step [200/249], Loss: 0.2080\n",
      "Epoch [7/10], Step [249/249], Loss: 0.2083\n",
      "Epoch [8/10], Step [100/249], Loss: 0.1992\n",
      "Epoch [8/10], Step [200/249], Loss: 0.2033\n",
      "Epoch [8/10], Step [249/249], Loss: 0.1993\n",
      "Epoch [9/10], Step [100/249], Loss: 0.1907\n",
      "Epoch [9/10], Step [200/249], Loss: 0.1930\n",
      "Epoch [9/10], Step [249/249], Loss: 0.1918\n",
      "Epoch [10/10], Step [100/249], Loss: 0.1809\n",
      "Epoch [10/10], Step [200/249], Loss: 0.1821\n",
      "Epoch [10/10], Step [249/249], Loss: 0.1840\n"
     ]
    }
   ],
   "source": [
    "\n",
    "gavamarnet_tl = GavamarNet(num_classes=8)\n",
    "#Initialize optimizer \n",
    "learning_rate = .1\n",
    "optimizer = torch.optim.SGD(gavamarnet_tl.parameters(),lr = learning_rate, weight_decay=1e-5, momentum=0.9)\n",
    "\n",
    "device = torch.device('cuda:0' if torch.cuda.is_available() else 'cpu')\n",
    "gavamarnet_tl = gavamarnet_tl.to(device)\n",
    "\n",
    "losses_it = train(gavamarnet_tl, tl_train_loader, optimizer, num_epochs=10, model_name='tl_gavamarnet_svhn.ckpt', device=device)\n"
   ]
  },
  {
   "attachments": {},
   "cell_type": "markdown",
   "metadata": {},
   "source": [
    "### Fine-tune the pretrained network with the small dataset of 9s and 0s"
   ]
  },
  {
   "cell_type": "code",
   "execution_count": 38,
   "metadata": {},
   "outputs": [
    {
     "ename": "RuntimeError",
     "evalue": "Error(s) in loading state_dict for GavamarNet:\n\tMissing key(s) in state_dict: \"bn14.weight\", \"bn14.bias\", \"bn14.running_mean\", \"bn14.running_var\", \"bn24.weight\", \"bn24.bias\", \"bn24.running_mean\", \"bn24.running_var\", \"bn34.weight\", \"bn34.bias\", \"bn34.running_mean\", \"bn34.running_var\". \n\tUnexpected key(s) in state_dict: \"bn11.weight\", \"bn11.bias\", \"bn11.running_mean\", \"bn11.running_var\", \"bn11.num_batches_tracked\", \"bn21.weight\", \"bn21.bias\", \"bn21.running_mean\", \"bn21.running_var\", \"bn21.num_batches_tracked\", \"bn31.weight\", \"bn31.bias\", \"bn31.running_mean\", \"bn31.running_var\", \"bn31.num_batches_tracked\". ",
     "output_type": "error",
     "traceback": [
      "\u001b[1;31m---------------------------------------------------------------------------\u001b[0m",
      "\u001b[1;31mRuntimeError\u001b[0m                              Traceback (most recent call last)",
      "Cell \u001b[1;32mIn[38], line 11\u001b[0m\n\u001b[0;32m      8\u001b[0m \u001b[39mfor\u001b[39;00m num_freeze \u001b[39min\u001b[39;00m layers_to_freeze:\n\u001b[0;32m      9\u001b[0m     \u001b[39m# copy the pretrained model\u001b[39;00m\n\u001b[0;32m     10\u001b[0m     fine_tuned_model \u001b[39m=\u001b[39m GavamarNet(num_classes\u001b[39m=\u001b[39m\u001b[39m8\u001b[39m)\n\u001b[1;32m---> 11\u001b[0m     fine_tuned_model\u001b[39m.\u001b[39;49mload_state_dict(torch\u001b[39m.\u001b[39;49mload(results_path \u001b[39m+\u001b[39;49m \u001b[39m'\u001b[39;49m\u001b[39mtl_gavamarnet_svhn.ckpt\u001b[39;49m\u001b[39m'\u001b[39;49m))\n\u001b[0;32m     12\u001b[0m     fine_tuned_model \u001b[39m=\u001b[39m fine_tuned_model\u001b[39m.\u001b[39mto(device)\n\u001b[0;32m     13\u001b[0m     fine_tuned_model\u001b[39m.\u001b[39mfc \u001b[39m=\u001b[39m nn\u001b[39m.\u001b[39mLinear(\u001b[39m4\u001b[39m\u001b[39m*\u001b[39m\u001b[39m4\u001b[39m\u001b[39m*\u001b[39m\u001b[39m64\u001b[39m, \u001b[39m2\u001b[39m)\u001b[39m.\u001b[39mcuda()\n",
      "File \u001b[1;32m~\\AppData\\Local\\Packages\\PythonSoftwareFoundation.Python.3.10_qbz5n2kfra8p0\\LocalCache\\local-packages\\Python310\\site-packages\\torch\\nn\\modules\\module.py:2056\u001b[0m, in \u001b[0;36mModule.load_state_dict\u001b[1;34m(self, state_dict, strict)\u001b[0m\n\u001b[0;32m   2051\u001b[0m         error_msgs\u001b[39m.\u001b[39minsert(\n\u001b[0;32m   2052\u001b[0m             \u001b[39m0\u001b[39m, \u001b[39m'\u001b[39m\u001b[39mMissing key(s) in state_dict: \u001b[39m\u001b[39m{}\u001b[39;00m\u001b[39m. \u001b[39m\u001b[39m'\u001b[39m\u001b[39m.\u001b[39mformat(\n\u001b[0;32m   2053\u001b[0m                 \u001b[39m'\u001b[39m\u001b[39m, \u001b[39m\u001b[39m'\u001b[39m\u001b[39m.\u001b[39mjoin(\u001b[39m'\u001b[39m\u001b[39m\"\u001b[39m\u001b[39m{}\u001b[39;00m\u001b[39m\"\u001b[39m\u001b[39m'\u001b[39m\u001b[39m.\u001b[39mformat(k) \u001b[39mfor\u001b[39;00m k \u001b[39min\u001b[39;00m missing_keys)))\n\u001b[0;32m   2055\u001b[0m \u001b[39mif\u001b[39;00m \u001b[39mlen\u001b[39m(error_msgs) \u001b[39m>\u001b[39m \u001b[39m0\u001b[39m:\n\u001b[1;32m-> 2056\u001b[0m     \u001b[39mraise\u001b[39;00m \u001b[39mRuntimeError\u001b[39;00m(\u001b[39m'\u001b[39m\u001b[39mError(s) in loading state_dict for \u001b[39m\u001b[39m{}\u001b[39;00m\u001b[39m:\u001b[39m\u001b[39m\\n\u001b[39;00m\u001b[39m\\t\u001b[39;00m\u001b[39m{}\u001b[39;00m\u001b[39m'\u001b[39m\u001b[39m.\u001b[39mformat(\n\u001b[0;32m   2057\u001b[0m                        \u001b[39mself\u001b[39m\u001b[39m.\u001b[39m\u001b[39m__class__\u001b[39m\u001b[39m.\u001b[39m\u001b[39m__name__\u001b[39m, \u001b[39m\"\u001b[39m\u001b[39m\\n\u001b[39;00m\u001b[39m\\t\u001b[39;00m\u001b[39m\"\u001b[39m\u001b[39m.\u001b[39mjoin(error_msgs)))\n\u001b[0;32m   2058\u001b[0m \u001b[39mreturn\u001b[39;00m _IncompatibleKeys(missing_keys, unexpected_keys)\n",
      "\u001b[1;31mRuntimeError\u001b[0m: Error(s) in loading state_dict for GavamarNet:\n\tMissing key(s) in state_dict: \"bn14.weight\", \"bn14.bias\", \"bn14.running_mean\", \"bn14.running_var\", \"bn24.weight\", \"bn24.bias\", \"bn24.running_mean\", \"bn24.running_var\", \"bn34.weight\", \"bn34.bias\", \"bn34.running_mean\", \"bn34.running_var\". \n\tUnexpected key(s) in state_dict: \"bn11.weight\", \"bn11.bias\", \"bn11.running_mean\", \"bn11.running_var\", \"bn11.num_batches_tracked\", \"bn21.weight\", \"bn21.bias\", \"bn21.running_mean\", \"bn21.running_var\", \"bn21.num_batches_tracked\", \"bn31.weight\", \"bn31.bias\", \"bn31.running_mean\", \"bn31.running_var\", \"bn31.num_batches_tracked\". "
     ]
    }
   ],
   "source": [
    "import time\n",
    "criterion = nn.CrossEntropyLoss()\n",
    "model = GavamarNet(num_classes=8)\n",
    "layers = ['11', '12', '13', '21', '22', '23', '31', '32', '33', 'fc']\n",
    "arr_acc = []\n",
    "arr_time = []\n",
    "layers_to_freeze = list(range(1,len(layers)))\n",
    "for num_freeze in layers_to_freeze:\n",
    "    # copy the pretrained model\n",
    "    fine_tuned_model = GavamarNet(num_classes=8)\n",
    "    fine_tuned_model.load_state_dict(torch.load(results_path + 'tl_gavamarnet_svhn.ckpt'))\n",
    "    fine_tuned_model = fine_tuned_model.to(device)\n",
    "    fine_tuned_model.fc = nn.Linear(4*4*64, 2).cuda()\n",
    "    \n",
    "    # freeze layers\n",
    "    for name, param in model.named_parameters():\n",
    "        if any(layer in name for layer in layers[:num_freeze]):\n",
    "            param.requires_grad = False\n",
    "            print(name, 'layer frozen')\n",
    "    # get the optimizer\n",
    "    learning_rate = .0005\n",
    "    optimizer = torch.optim.Adam(filter(lambda p: p.requires_grad, fine_tuned_model.parameters()),lr = learning_rate,\n",
    "                                 weight_decay=1e-5)\n",
    "    \n",
    "    start_time = time.time()\n",
    "    losses_freeze = train(fine_tuned_model, tl_train_loader_0_9, optimizer, num_epochs=10, model_name=f'tl_gavamarnet_svhn_{num_freeze}.ckpt', device=device)\n",
    "    end_time = time.time()\n",
    "    arr_time.append(end_time - start_time)\n",
    "    plt.plot(losses_freeze)\n",
    "    plt.title(\"Loss for layers freezed \"+str(layers[:num_freeze]))\n",
    "    plt.xlabel(\"step\")\n",
    "    plt.ylabel(\"Loss\")\n",
    "    plt.show()\n",
    "    acc = test(fine_tuned_model, tl_test_loader_0_9)\n",
    "    arr_acc.append(acc)\n",
    "    print('Accuracy ResNet Transfer Learning with layers freezed '+str(layers[:num_freeze])+': ' + str(acc),\"\\n\")\n"
   ]
  },
  {
   "attachments": {},
   "cell_type": "markdown",
   "metadata": {},
   "source": [
    "Plot of the accuracy and time computation for the training and validation sets during the fine-tuning process."
   ]
  },
  {
   "cell_type": "code",
   "execution_count": 36,
   "metadata": {},
   "outputs": [
    {
     "data": {
      "image/png": "[encoded data removed]",
      "text/plain": [
       "<Figure size 1000x500 with 2 Axes>"
      ]
     },
     "metadata": {},
     "output_type": "display_data"
    }
   ],
   "source": [
    "\n",
    "fig,axs = plt.subplots(1,2,figsize=(10,5))\n",
    "axs[0].plot(layers_to_freeze,arr_acc)\n",
    "axs[0].set_xlabel('Number of frozen layers')\n",
    "axs[0].set_ylabel('Accuracy')\n",
    "axs[0].set_title('Accuracy vs Number of frozen layers')\n",
    "axs[1].plot(layers_to_freeze,arr_time)\n",
    "axs[1].set_xlabel('Number of frozen layers')\n",
    "axs[1].set_ylabel('Time (s)')\n",
    "axs[1].set_title('Time vs Number of frozen layers')\n",
    "fig.tight_layout()\n",
    "plt.show()"
   ]
  },
  {
   "attachments": {},
   "cell_type": "markdown",
   "metadata": {},
   "source": [
    "### Demonstrating that  training from scratch is worse than transfer learning"
   ]
  },
  {
   "cell_type": "code",
   "execution_count": 27,
   "metadata": {},
   "outputs": [
    {
     "name": "stdout",
     "output_type": "stream",
     "text": [
      "Epoch [1/10], Step [4/4], Loss: 0.7206\n",
      "Epoch [2/10], Step [4/4], Loss: 0.6908\n",
      "Epoch [3/10], Step [4/4], Loss: 0.5960\n",
      "Epoch [4/10], Step [4/4], Loss: 0.5569\n",
      "Epoch [5/10], Step [4/4], Loss: 0.4969\n",
      "Epoch [6/10], Step [4/4], Loss: 0.5628\n",
      "Epoch [7/10], Step [4/4], Loss: 0.4753\n",
      "Epoch [8/10], Step [4/4], Loss: 0.4588\n",
      "Epoch [9/10], Step [4/4], Loss: 0.4059\n",
      "Epoch [10/10], Step [4/4], Loss: 0.3609\n",
      "Accuracy MyNet: 69.78845540554906\n"
     ]
    }
   ],
   "source": [
    "\n",
    "gavamarnet_tl = GavamarNet(num_classes=2)\n",
    "#Initialize optimizer \n",
    "learning_rate = .0005\n",
    "optimizer = torch.optim.Adam(gavamarnet_tl.parameters(),lr = learning_rate)\n",
    "\n",
    "device = torch.device('cuda:0' if torch.cuda.is_available() else 'cpu')\n",
    "gavamarnet_tl = gavamarnet_tl.to(device)\n",
    "\n",
    "losses_it = train(gavamarnet_tl, tl_train_loader_0_9, optimizer, num_epochs=10, model_name='tl_gavamarnet_svhn_only_0_9.ckpt', device=device)\n",
    "\n",
    "acc= test(gavamarnet_tl, tl_test_loader_0_9)\n",
    "print('Accuracy MyNet: ' + str(acc))"
   ]
  }
 ],
 "metadata": {
  "kernelspec": {
   "display_name": "albertkernel",
   "language": "python",
   "name": "albertkernel"
  },
  "language_info": {
   "codemirror_mode": {
    "name": "ipython",
    "version": 3
   },
   "file_extension": ".py",
   "mimetype": "text/x-python",
   "name": "python",
   "nbconvert_exporter": "python",
   "pygments_lexer": "ipython3",
   "version": "3.10.11"
  },
  "orig_nbformat": 4
 },
 "nbformat": 4,
 "nbformat_minor": 2
}
